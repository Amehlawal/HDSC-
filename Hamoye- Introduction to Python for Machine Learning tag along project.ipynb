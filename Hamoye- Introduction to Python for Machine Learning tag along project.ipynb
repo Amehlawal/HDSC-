{
 "cells": [
  {
   "cell_type": "code",
   "execution_count": null,
   "id": "89c93dbc",
   "metadata": {},
   "outputs": [],
   "source": [
    "import pandas as pd\n",
    "url = 'https://github.com/HamoyeHQ/HDSC-Introduction-to-Python-for-machine-learning/files/7768140/FoodBalanceSheets_E_Africa_NOFLAG.csv'\n",
    "h1_df = pd.read_csv(url, encoding=\"latin-1\")"
   ]
  },
  {
   "cell_type": "code",
   "execution_count": null,
   "id": "97690f61",
   "metadata": {},
   "outputs": [],
   "source": [
    "h1_df.head()"
   ]
  },
  {
   "cell_type": "code",
   "execution_count": null,
   "id": "bb23d582",
   "metadata": {},
   "outputs": [],
   "source": [
    "# perform a groupby operation of 'Element' and write the total number of sum of processing in 2017\n",
    "sum_process=h1_df.groupby('Element')['Y2017'].sum()\n",
    "print('The total number of sum of processing is ' + str(sum_process.loc['Processing']))"
   ]
  },
  {
   "cell_type": "code",
   "execution_count": null,
   "id": "87c6cc12",
   "metadata": {},
   "outputs": [],
   "source": [
    "# The total number and percentage of missing data in 2014 to 3dp\n",
    "total_number=h1_df['Y2014'].isnull().sum()\n",
    "print('The total number missing is: ' + str(total_number))"
   ]
  },
  {
   "cell_type": "code",
   "execution_count": null,
   "id": "64fa1eb1",
   "metadata": {},
   "outputs": [],
   "source": [
    "# The meand and standard deviation across the whole dataset for the year 2017 to 2dp\n",
    "std=h1_df[\"Y2017\"].std()\n",
    "mean=h1_df['Y2017'].mean()\n",
    "print('mean: ' + str(mean)); print('standard deviation: ' + str(std))"
   ]
  },
  {
   "cell_type": "code",
   "execution_count": null,
   "id": "a6db07d1",
   "metadata": {},
   "outputs": [],
   "source": [
    "# What year had the highest stock variation,\n",
    "# The answer is 2017.\n",
    "stock_var= h1_df.groupby('Element')[['Y2014', 'Y2015','Y2016','Y2017', 'Y2018']].max()\n",
    "print(stock_var)\n",
    "print('The year with the highest stock variation is ' + str(stock_var.loc['Stock Variation', 'Y2017']))"
   ]
  },
  {
   "cell_type": "code",
   "execution_count": null,
   "id": "78f2591e",
   "metadata": {},
   "outputs": [],
   "source": [
    "# The total sum of wine produced in 2015 and 2018 respectively\n",
    "# The answer is 4251.81 and 4039.32\n",
    "total_wine= h1_df.groupby('Item')[['Item','Y2015','Y2018']].sum()\n",
    "print(total_wine.tail())"
   ]
  },
  {
   "cell_type": "code",
   "execution_count": null,
   "id": "15d3d3a4",
   "metadata": {},
   "outputs": [],
   "source": [
    "# Total protein supply in Madagascar in 2015\n",
    "# Answer is = 173.05\n",
    "general = h1_df.groupby(['Area', 'Element'])[['Y2015']].sum()\n",
    "madga_protein_supply=general.loc[['Madagascar']]\n",
    "print(madga_protein_supply.tail())"
   ]
  },
  {
   "cell_type": "code",
   "execution_count": null,
   "id": "a9bedc9c",
   "metadata": {},
   "outputs": [],
   "source": [
    "# Perform a groupby operation on 'Area', select columns 'Y2017' and 'Area', and find out which of these areas has \n",
    "# the 7th lowest sum in 20117\n",
    "# the Ans= Guinea-Bissau\n",
    "lowest_sum=h1_df.groupby('Area')[['Area', 'Y2017']].sum()\n",
    "print(lowest_sum.sort_values(by='Y2017', axis= 0, ascending=True))\n",
    "print('Guinea-Bissau as it comes 7 in order of ascending')"
   ]
  },
  {
   "cell_type": "code",
   "execution_count": null,
   "id": "30decd69",
   "metadata": {},
   "outputs": [],
   "source": [
    "# Perform a groupby operation on 'Area', select columns 'Y2017' and 'Area', and find out which of these areas has \n",
    "# the highest sum in 20117\n",
    "# the Ans= Nigeria\n",
    "highest_sum=h1_df.groupby('Area')[['Area', 'Y2017']].sum()\n",
    "print(highest_sum.sort_values(by='Y2017', axis= 0, ascending=True))\n",
    "print('Nigeria is the highest as it comes last in ascending order')"
   ]
  },
  {
   "cell_type": "code",
   "execution_count": null,
   "id": "c736c076",
   "metadata": {},
   "outputs": [],
   "source": [
    "# Which year had the least correlation\n",
    "least_corr=h1_df.groupby('Element Code')[['Y2014','Y2015','Y2016','Y2017','Y2018']].corr()\n",
    "minimum=least_corr.min()\n",
    "print(minimum)"
   ]
  }
 ],
 "metadata": {
  "kernelspec": {
   "display_name": "Python 3 (ipykernel)",
   "language": "python",
   "name": "python3"
  },
  "language_info": {
   "codemirror_mode": {
    "name": "ipython",
    "version": 3
   },
   "file_extension": ".py",
   "mimetype": "text/x-python",
   "name": "python",
   "nbconvert_exporter": "python",
   "pygments_lexer": "ipython3",
   "version": "3.9.13"
  }
 },
 "nbformat": 4,
 "nbformat_minor": 5
}
